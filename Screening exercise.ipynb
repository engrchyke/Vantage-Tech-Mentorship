{
 "cells": [
  {
   "cell_type": "markdown",
   "id": "457e65af",
   "metadata": {},
   "source": [
    "1 Given an integer, n, perform the following conditional actions:\n",
    "If n is odd, print \"Weird\"\n",
    "If n is even and greater than 20, print \"Not Weird\""
   ]
  },
  {
   "cell_type": "code",
   "execution_count": 1,
   "id": "25443302",
   "metadata": {},
   "outputs": [],
   "source": [
    "def conditions(n):\n",
    "    n = int(n)\n",
    "    if (n%2) == 0 and n > 20:\n",
    "        print(\"Not Weird\")\n",
    "    else:\n",
    "        print(\"Weird\") "
   ]
  },
  {
   "cell_type": "code",
   "execution_count": 2,
   "id": "72887044",
   "metadata": {},
   "outputs": [
    {
     "name": "stdout",
     "output_type": "stream",
     "text": [
      "Weird\n"
     ]
    }
   ],
   "source": [
    "conditions(23)"
   ]
  },
  {
   "cell_type": "markdown",
   "id": "8c9beeda",
   "metadata": {},
   "source": [
    "2. Given the below strings, return a list containing the characters of the string. If a character in the string is a space or a digit greater than 4, remove them and do not include them in the array.\n",
    "\n",
    "\"my string\"\n",
    "\n",
    "\"5 naira\"\n",
    "\n",
    "\"3books\""
   ]
  },
  {
   "cell_type": "code",
   "execution_count": 3,
   "id": "3b1fe338",
   "metadata": {},
   "outputs": [],
   "source": [
    "def getList(string):\n",
    "    res = [char for char in string if(not((char.isdigit() and int(char) > 4) or char == \" \"))]\n",
    "    return res"
   ]
  },
  {
   "cell_type": "code",
   "execution_count": 4,
   "id": "51488fca",
   "metadata": {},
   "outputs": [
    {
     "data": {
      "text/plain": [
       "['n', 'a', 'i', 'r', 'a']"
      ]
     },
     "execution_count": 4,
     "metadata": {},
     "output_type": "execute_result"
    }
   ],
   "source": [
    "getList(\"5 naira\")"
   ]
  },
  {
   "cell_type": "markdown",
   "id": "f37825a1",
   "metadata": {},
   "source": [
    "Q3. What is an Algorithm? (select the correct option)\n",
    "\n",
    "A. a well-defined set of instructions to solve a particular problem\n",
    "\n",
    "B. An arbitrary way to solve a problem\n",
    "\n",
    "c. A way to solve a task programmatically without instructions\n",
    "\n",
    "d. I don't know"
   ]
  },
  {
   "cell_type": "markdown",
   "id": "e36d67fa",
   "metadata": {},
   "source": [
    "**Ans = A (a well-defined set of instructions to solve a particular problem)**"
   ]
  }
 ],
 "metadata": {
  "kernelspec": {
   "display_name": "Python 3 (ipykernel)",
   "language": "python",
   "name": "python3"
  },
  "language_info": {
   "codemirror_mode": {
    "name": "ipython",
    "version": 3
   },
   "file_extension": ".py",
   "mimetype": "text/x-python",
   "name": "python",
   "nbconvert_exporter": "python",
   "pygments_lexer": "ipython3",
   "version": "3.9.7"
  }
 },
 "nbformat": 4,
 "nbformat_minor": 5
}
